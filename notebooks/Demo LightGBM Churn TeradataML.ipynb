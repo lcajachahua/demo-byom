{
 "cells": [
  {
   "cell_type": "markdown",
   "id": "78ed9850",
   "metadata": {},
   "source": [
    "# Implementando un Modelo de Churn de Clientes con PMML"
   ]
  },
  {
   "cell_type": "markdown",
   "id": "869ae6f8",
   "metadata": {},
   "source": [
    "### Instalamos los pre-requisitos y cargamos las librerías necesarias"
   ]
  },
  {
   "cell_type": "code",
   "execution_count": null,
   "id": "238a64bc",
   "metadata": {},
   "outputs": [],
   "source": [
    "#pip install lightgbm nyoka"
   ]
  },
  {
   "cell_type": "code",
   "execution_count": null,
   "id": "07c68a42",
   "metadata": {},
   "outputs": [],
   "source": [
    "import warnings\n",
    "warnings.filterwarnings(\"ignore\")\n",
    "import pandas as pd\n",
    "import numpy as np\n",
    "from scipy import stats\n",
    "from teradataml import create_context, DataFrame, get_context, copy_to_sql, in_schema, remove_context\n",
    "import getpass as gp"
   ]
  },
  {
   "cell_type": "code",
   "execution_count": null,
   "id": "59f80786",
   "metadata": {},
   "outputs": [],
   "source": [
    "td_context = create_context(host=\"tdprd.td.teradata.com\", username=\"lc250058\", password=gp.getpass(prompt='Password:'), logmech=\"LDAP\")"
   ]
  },
  {
   "cell_type": "markdown",
   "id": "1be8cd61",
   "metadata": {
    "tags": []
   },
   "source": [
    "### Leemos el dataset de desarrollo"
   ]
  },
  {
   "cell_type": "code",
   "execution_count": null,
   "id": "7b0ff22d",
   "metadata": {},
   "outputs": [],
   "source": [
    "# Create DataFrame for the tables in Vantage\n",
    "churn_df = DataFrame(\"churn\")\n",
    "churn_df.shape"
   ]
  },
  {
   "cell_type": "code",
   "execution_count": null,
   "id": "833692a7",
   "metadata": {},
   "outputs": [],
   "source": [
    "# Using to_pandas() for a cleaner display format\n",
    "desarrll = churn_df.to_pandas()\n",
    "desarrll.head()"
   ]
  },
  {
   "cell_type": "markdown",
   "id": "83d14609",
   "metadata": {},
   "source": [
    "### Cambiamos los tipos de datos para que los acepte Python"
   ]
  },
  {
   "cell_type": "code",
   "execution_count": null,
   "id": "7654545e",
   "metadata": {},
   "outputs": [],
   "source": [
    "desarrll.DayMins = desarrll.DayMins.astype('float64')\n",
    "desarrll.EveMins = desarrll.EveMins.astype('float64')\n",
    "desarrll.NightMins = desarrll.NightMins.astype('float64')\n",
    "desarrll.IntlMins = desarrll.IntlMins.astype('float64')\n",
    "desarrll.DayCharge = desarrll.DayCharge.astype('float64')\n",
    "desarrll.EveCharge = desarrll.EveCharge.astype('float64')\n",
    "desarrll.NightCharge = desarrll.NightCharge.astype('float64')\n",
    "desarrll.IntlCharge = desarrll.IntlCharge.astype('float64')"
   ]
  },
  {
   "cell_type": "markdown",
   "id": "1acce31a",
   "metadata": {},
   "source": [
    "### Revisamos los valores nulos o missings"
   ]
  },
  {
   "cell_type": "code",
   "execution_count": null,
   "id": "f071a2db",
   "metadata": {},
   "outputs": [],
   "source": [
    "desarrll.isnull().sum()"
   ]
  },
  {
   "cell_type": "markdown",
   "id": "dc60c354",
   "metadata": {},
   "source": [
    "### División en train y test"
   ]
  },
  {
   "cell_type": "code",
   "execution_count": null,
   "id": "233549db",
   "metadata": {},
   "outputs": [],
   "source": [
    "from sklearn.model_selection import train_test_split\n",
    "X_train, X_test, y_train, y_test = train_test_split(desarrll.drop(['Churn','State','AreaCode'],axis=1),\n",
    "                                                   desarrll['Churn'],\n",
    "                                                   test_size=0.33,\n",
    "                                                   random_state=12345) "
   ]
  },
  {
   "cell_type": "markdown",
   "id": "05d09ef9",
   "metadata": {},
   "source": [
    "### Creamos un pipeline para poder almacenar el Modelo LightGBM"
   ]
  },
  {
   "cell_type": "code",
   "execution_count": null,
   "id": "b062f15d",
   "metadata": {},
   "outputs": [],
   "source": [
    "from sklearn.pipeline import Pipeline\n",
    "from lightgbm import LGBMClassifier\n",
    "\n",
    "pipeline_obj = Pipeline([('lgbmc',LGBMClassifier())])\n",
    "\n",
    "pipeline_obj.fit(X_train,y_train)"
   ]
  },
  {
   "cell_type": "markdown",
   "id": "63507844",
   "metadata": {},
   "source": [
    "### Exportamos el modelo generado utilizando la librería Nyoka"
   ]
  },
  {
   "cell_type": "code",
   "execution_count": null,
   "id": "f45e08ae",
   "metadata": {},
   "outputs": [],
   "source": [
    "from nyoka import lgb_to_pmml\n",
    "\n",
    "lgb_to_pmml(pipeline_obj,desarrll.columns,'churn',\"lgbmc_pmml.pmml\")"
   ]
  },
  {
   "cell_type": "markdown",
   "id": "c6908d7e",
   "metadata": {},
   "source": [
    "### Ya podemos llevar el Modelo en formato PMML a Vantage"
   ]
  },
  {
   "cell_type": "code",
   "execution_count": null,
   "id": "cd4ea281",
   "metadata": {},
   "outputs": [],
   "source": []
  },
  {
   "cell_type": "markdown",
   "id": "c7083711",
   "metadata": {},
   "source": [
    "Copyright 2022 - Elaborado por Luis Cajachahua"
   ]
  }
 ],
 "metadata": {
  "kernelspec": {
   "display_name": "Python 3 (ipykernel)",
   "language": "python",
   "name": "python3"
  },
  "language_info": {
   "codemirror_mode": {
    "name": "ipython",
    "version": 3
   },
   "file_extension": ".py",
   "mimetype": "text/x-python",
   "name": "python",
   "nbconvert_exporter": "python",
   "pygments_lexer": "ipython3",
   "version": "3.9.7"
  }
 },
 "nbformat": 4,
 "nbformat_minor": 5
}
