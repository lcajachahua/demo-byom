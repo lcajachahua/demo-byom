{
 "cells": [
  {
   "cell_type": "markdown",
   "id": "78ed9850",
   "metadata": {},
   "source": [
    "# Implementando un Modelo de Churn de Clientes con PMML"
   ]
  },
  {
   "cell_type": "markdown",
   "id": "869ae6f8",
   "metadata": {},
   "source": [
    "### Instalamos los pre-requisitos y cargamos las librerías necesarias"
   ]
  },
  {
   "cell_type": "code",
   "execution_count": null,
   "id": "238a64bc",
   "metadata": {},
   "outputs": [],
   "source": [
    "pip install lightgbm nyoka"
   ]
  },
  {
   "cell_type": "markdown",
   "id": "c8d0f4f3-4492-4479-b271-0012d83012eb",
   "metadata": {},
   "source": [
    "**Reinicie el Kernel para poder continuar**"
   ]
  },
  {
   "cell_type": "code",
   "execution_count": null,
   "id": "07c68a42",
   "metadata": {},
   "outputs": [],
   "source": [
    "import warnings\n",
    "warnings.filterwarnings(\"ignore\")\n",
    "import pandas as pd\n",
    "import numpy as np\n",
    "from scipy import stats\n",
    "import matplotlib.pyplot as plt\n",
    "import seaborn as sns\n",
    "import getpass as gp\n",
    "\n",
    "from teradataml import create_context, DataFrame, get_context, copy_to_sql, in_schema, remove_context, db_list_tables\n",
    "from teradataml.analytics.valib import *\n",
    "configure.val_install_location = \"val\""
   ]
  },
  {
   "cell_type": "code",
   "execution_count": null,
   "id": "59f80786",
   "metadata": {},
   "outputs": [],
   "source": [
    "%run -i /home/jovyan/JupyterLabRoot/UseCases/startup.ipynb\n",
    "td_context = create_context(host = 'host.docker.internal', username='demo_user', password = password)\n",
    "print(td_context)"
   ]
  },
  {
   "cell_type": "markdown",
   "id": "1be8cd61",
   "metadata": {
    "tags": []
   },
   "source": [
    "### Cargamos el dataset de desarrollo"
   ]
  },
  {
   "cell_type": "code",
   "execution_count": null,
   "id": "558d86b9-16c2-404e-b61d-6a2aba56595b",
   "metadata": {},
   "outputs": [],
   "source": [
    "churn_df = pd.read_csv('../data/churn.csv')\n",
    "churn_df.head(5)"
   ]
  },
  {
   "cell_type": "code",
   "execution_count": null,
   "id": "9fab12c7-db58-47f6-981d-e48e65be59aa",
   "metadata": {},
   "outputs": [],
   "source": [
    "churn_df.shape"
   ]
  },
  {
   "cell_type": "markdown",
   "id": "e91bfb2a-76e0-4086-aa8c-9d1f0871b858",
   "metadata": {},
   "source": [
    "### Llevamos el dataset a la BD, en la tabla 'churn'"
   ]
  },
  {
   "cell_type": "code",
   "execution_count": null,
   "id": "833692a7",
   "metadata": {},
   "outputs": [],
   "source": [
    "copy_to_sql(churn_df,table_name='churn',schema_name= 'demo_user',if_exists='replace')"
   ]
  },
  {
   "cell_type": "code",
   "execution_count": null,
   "id": "4cac2638-c200-45bc-8e23-693adbbc2758",
   "metadata": {},
   "outputs": [],
   "source": [
    "## Lista de todos los objetos en 'demo_user'\n",
    "db_list_tables()"
   ]
  },
  {
   "cell_type": "markdown",
   "id": "d4d0864d-247d-4683-89e8-95c2ee3c1c3c",
   "metadata": {},
   "source": [
    "### Creamos en DataFrame de TeradataML"
   ]
  },
  {
   "cell_type": "code",
   "execution_count": null,
   "id": "c6330d17-5655-49d4-b464-2bb5a2b85e04",
   "metadata": {},
   "outputs": [],
   "source": [
    "tdChurn = DataFrame(\"churn\")\n",
    "tdChurn.head(5)"
   ]
  },
  {
   "cell_type": "code",
   "execution_count": null,
   "id": "77501fd0-97a4-4dd6-8671-2e222abf1efa",
   "metadata": {},
   "outputs": [],
   "source": [
    "tdChurn.head(20).show_query()"
   ]
  },
  {
   "cell_type": "code",
   "execution_count": null,
   "id": "6e0040a1-7a41-491a-a1f8-14a3146827cb",
   "metadata": {},
   "outputs": [],
   "source": [
    "tdChurn.dtypes"
   ]
  },
  {
   "cell_type": "markdown",
   "id": "83d14609",
   "metadata": {},
   "source": [
    "### Explorando los Datos"
   ]
  },
  {
   "cell_type": "code",
   "execution_count": null,
   "id": "7654545e",
   "metadata": {},
   "outputs": [],
   "source": [
    "explor = valib.Values(data=tdChurn, columns=\"all\")\n",
    "explor.result.head(20)"
   ]
  },
  {
   "cell_type": "markdown",
   "id": "16e984d2-a3e1-4b6e-b987-21eacd791a29",
   "metadata": {},
   "source": [
    "### Explorando los Valores Atípicos (Outliers)"
   ]
  },
  {
   "cell_type": "code",
   "execution_count": null,
   "id": "b0a139a3-ad09-41b9-9924-a70f41f767b0",
   "metadata": {},
   "outputs": [],
   "source": [
    "out = valib.Statistics(data=tdChurn, columns=[\"DayMins\", \"DayCalls\", \"DayCharge\", \"AccountLength\"], extended_options=\"quantiles\")\n",
    "out.result"
   ]
  },
  {
   "cell_type": "markdown",
   "id": "e1355f21-8bd6-4a49-b6dc-b9f71f9091a5",
   "metadata": {},
   "source": [
    "### Distribución de Frecuencias por la Antiguedad del Cliente"
   ]
  },
  {
   "cell_type": "code",
   "execution_count": null,
   "id": "6027f91f-5497-4ae5-956f-fc584a6bb1f5",
   "metadata": {},
   "outputs": [],
   "source": [
    "tdAntig = valib.Frequency(data=tdChurn, columns=\"AccountLength\")\n",
    "tdAntig.result.to_pandas().sort_values(['xval'])"
   ]
  },
  {
   "cell_type": "markdown",
   "id": "f4bece0e-3fdb-4350-92df-536a869eafc8",
   "metadata": {},
   "source": [
    "### Distribución de Frecuencias de las Llamadas a Servicio al Cliente"
   ]
  },
  {
   "cell_type": "code",
   "execution_count": null,
   "id": "6a2fe297-2fb4-4692-a130-4dff05c8457a",
   "metadata": {},
   "outputs": [],
   "source": [
    "tdCustSC = valib.Frequency(data=tdChurn, columns=\"CustServCalls\")\n",
    "tdCustFr = tdCustSC.result.to_pandas().sort_values(['xval'])\n",
    "tdCustFr"
   ]
  },
  {
   "cell_type": "code",
   "execution_count": null,
   "id": "d6581ab6-4e9d-434a-957a-aa20e46ab996",
   "metadata": {},
   "outputs": [],
   "source": [
    "sizes=tdCustFr['xcnt']\n",
    "labels=tdCustFr.reset_index(level=[0,1]).index\n",
    "\n",
    "fig = plt.figure()\n",
    "ax = fig.add_axes([0,0,1,1])\n",
    "ax.bar(labels, sizes)\n",
    "ax.set(title='CustServCalls')\n",
    "plt.show()"
   ]
  },
  {
   "cell_type": "markdown",
   "id": "eb43cb86-ede6-45b4-a40b-25e4914331af",
   "metadata": {},
   "source": [
    "### Histograma para todas las Variables Numéricas"
   ]
  },
  {
   "cell_type": "code",
   "execution_count": null,
   "id": "1d771a8e-b1ee-421c-90b0-8cb765ad5db9",
   "metadata": {},
   "outputs": [],
   "source": [
    "hist = valib.Histogram(data=tdChurn, columns='allnumeric')\n",
    "hist.result.head(160).sort([\"xcol\",\"xbin\"])"
   ]
  },
  {
   "cell_type": "markdown",
   "id": "6d661975-eed0-49a9-8f5b-b5d5346ca3a9",
   "metadata": {},
   "source": [
    "### Matriz de Correlaciones para las variables numéricas"
   ]
  },
  {
   "cell_type": "code",
   "execution_count": null,
   "id": "6f26669f-f2d7-462e-aadf-a463a66773d2",
   "metadata": {},
   "outputs": [],
   "source": [
    "Cor_Mat = valib.Matrix(data=tdChurn, columns='all', exclude_columns=[\"AreaCode\",\"State\",\"Churn\",\"Phone\"], type=\"COR\")\n",
    "corr = Cor_Mat.result.to_pandas().sort_values(['rownum'])\n",
    "corr"
   ]
  },
  {
   "cell_type": "code",
   "execution_count": null,
   "id": "e334840e-718a-4d65-8997-f2d2c7a4bed3",
   "metadata": {},
   "outputs": [],
   "source": [
    "mask = np.array(corr)\n",
    "mask[np.tril_indices_from(mask)] = False\n",
    "fig = plt.gcf()\n",
    "fig.set_size_inches(30,12)\n",
    "sns.heatmap(data=corr,mask=mask,square=True,annot=True,cbar=True)"
   ]
  },
  {
   "cell_type": "markdown",
   "id": "cc7aeded-c735-4079-a69b-420fd2b7756c",
   "metadata": {},
   "source": [
    "### División de Muestras Train y Evaluation"
   ]
  },
  {
   "cell_type": "code",
   "execution_count": null,
   "id": "54a1268a-0563-497d-8f17-d9c629f1dd74",
   "metadata": {},
   "outputs": [],
   "source": [
    "tbl_sample = tdChurn.sample(frac = [0.7, 0.3])"
   ]
  },
  {
   "cell_type": "code",
   "execution_count": null,
   "id": "8b74614e-436d-4278-b33d-15cd540229ae",
   "metadata": {},
   "outputs": [],
   "source": [
    "df_train = tbl_sample[tbl_sample.sampleid == \"1\"].drop([\"sampleid\",\"AreaCode\",\"State\",\"DayCharge\",\"EveCharge\",\"NightCharge\",\"IntlCharge\",\"VMailPlan\"], axis = 1)\n",
    "copy_to_sql(df_train, table_name=\"ChurnTrainModel\", if_exists=\"replace\")\n",
    "tbl_train = DataFrame(\"ChurnTrainModel\")\n",
    "tbl_train.shape"
   ]
  },
  {
   "cell_type": "code",
   "execution_count": null,
   "id": "6e27cce3-d8cd-40db-9aa6-022241732571",
   "metadata": {},
   "outputs": [],
   "source": [
    "df_test = tbl_sample[tbl_sample.sampleid == \"2\"].drop([\"sampleid\",\"AreaCode\",\"State\",\"DayCharge\",\"EveCharge\",\"NightCharge\",\"IntlCharge\",\"VMailPlan\"], axis = 1)\n",
    "copy_to_sql(df_test, table_name=\"ChurnTestModel\", if_exists=\"replace\")\n",
    "tbl_test = DataFrame(\"ChurnTestModel\")\n",
    "tbl_test.shape"
   ]
  },
  {
   "cell_type": "markdown",
   "id": "09d76534-2e4a-4da5-accb-64095b3b62fe",
   "metadata": {},
   "source": [
    "### Modelo 1: Regresión Logística In-Database utilizando VAL"
   ]
  },
  {
   "cell_type": "code",
   "execution_count": null,
   "id": "00522185-c9ad-44c3-abc6-288f80e57ea7",
   "metadata": {},
   "outputs": [],
   "source": [
    "tdModel = valib.LogReg(data=tbl_train,\n",
    "                       columns=\"all\",\n",
    "                       exclude_columns=\"Phone\",\n",
    "                       stepwise=True,\n",
    "                       response_column=\"Churn\")\n",
    "tdModel.model.to_pandas().sort_values(['Column Name'])"
   ]
  },
  {
   "cell_type": "code",
   "execution_count": null,
   "id": "50496138-a5e0-420f-8d16-4786b4a32a5b",
   "metadata": {},
   "outputs": [],
   "source": [
    "tdModel.statistical_measures"
   ]
  },
  {
   "cell_type": "markdown",
   "id": "af81bb7b-9a2f-43e1-b79f-142da13d6621",
   "metadata": {},
   "source": [
    "Validación del Modelo de Regresión Logística (VAL)"
   ]
  },
  {
   "cell_type": "code",
   "execution_count": null,
   "id": "8c7c8b34-913f-4cf0-b4c8-a7f1750615c2",
   "metadata": {},
   "outputs": [],
   "source": [
    "Logit_Model_Eval = valib.LogRegEvaluator(data=tbl_test, model=tdModel.model, index_columns=\"Phone\", prob_column=\"Probability\")"
   ]
  },
  {
   "cell_type": "code",
   "execution_count": null,
   "id": "ced40b66-2c35-4d8c-8b85-874f98be0751",
   "metadata": {},
   "outputs": [],
   "source": [
    "from IPython.core.display import display, HTML\n",
    "\n",
    "cursor=td_context.raw_connection().cursor()\n",
    "parms = 'database=' + Logit_Model_Eval.result._table_name.split('.')[0] + ';tablename=' + Logit_Model_Eval.result._table_name.split('.')[1] + ';analysistype=logisticscore'\n",
    "cursor.callproc(\"val.td_analyze\", ['report',parms])\n",
    "cursor.nextset()\n",
    "z=cursor.fetchall()\n",
    "# Loop in case of group by generating multiple reports\n",
    "for i in range(len(z)):\n",
    "    display(HTML(z[i][1]))"
   ]
  },
  {
   "cell_type": "markdown",
   "id": "ead2672b-0958-4feb-a64b-242d58f15282",
   "metadata": {},
   "source": [
    "### Modelo 2: LightGBM utilizando 100% Python"
   ]
  },
  {
   "cell_type": "code",
   "execution_count": null,
   "id": "d3db1a2d-92eb-4bcd-880c-2b6b087c4979",
   "metadata": {},
   "outputs": [],
   "source": [
    "from lightgbm import LGBMClassifier\n",
    "from sklearn.pipeline import Pipeline\n",
    "#from scipy.stats import randint as sp_randint\n",
    "from sklearn.metrics import roc_auc_score, classification_report, confusion_matrix, accuracy_score\n",
    "from sklearn.model_selection import train_test_split"
   ]
  },
  {
   "cell_type": "code",
   "execution_count": null,
   "id": "a2b11417-0391-45a8-a45c-9d382bfade7c",
   "metadata": {},
   "outputs": [],
   "source": [
    "X_train = tbl_train.drop([\"Phone\", \"Churn\"], axis = 1).to_pandas()\n",
    "y_train = tbl_train.select(\"Churn\").to_pandas()\n",
    "X_train.head()"
   ]
  },
  {
   "cell_type": "code",
   "execution_count": null,
   "id": "8217a63c-54b6-4bfb-98ab-77e8705b1d4a",
   "metadata": {},
   "outputs": [],
   "source": [
    "X_test = tbl_test.drop([\"Phone\", \"Churn\"], axis = 1).to_pandas()\n",
    "y_test = tbl_test.select(\"Churn\").to_pandas()\n",
    "X_test.head()"
   ]
  },
  {
   "cell_type": "markdown",
   "id": "05d09ef9",
   "metadata": {},
   "source": [
    "**Creamos un pipeline para poder almacenar el Modelo**"
   ]
  },
  {
   "cell_type": "code",
   "execution_count": null,
   "id": "b062f15d",
   "metadata": {},
   "outputs": [],
   "source": [
    "pipeline_obj = Pipeline([('lgbmc',LGBMClassifier())])\n",
    "pipeline_obj.fit(X_train,y_train)"
   ]
  },
  {
   "cell_type": "markdown",
   "id": "63507844",
   "metadata": {},
   "source": [
    "**Exportamos el modelo generado utilizando la librería Nyoka**"
   ]
  },
  {
   "cell_type": "code",
   "execution_count": null,
   "id": "f45e08ae",
   "metadata": {},
   "outputs": [],
   "source": [
    "from nyoka import lgb_to_pmml\n",
    "\n",
    "lgb_to_pmml(pipeline_obj, churn_df.columns, 'churn', 'TelcoChurnPy.pmml')"
   ]
  },
  {
   "cell_type": "code",
   "execution_count": null,
   "id": "1c108456-eadc-475c-acdb-485de72426b8",
   "metadata": {},
   "outputs": [],
   "source": [
    "y_pred = pipeline_obj.predict(X_test)\n",
    "y_probs = pipeline_obj.predict_proba(X_test)[:, 1]\n",
    "print('Area bajo la Curva ROC: ',roc_auc_score(y_test, y_probs))\n",
    "print('Matriz de Confusión: ',confusion_matrix(y_test,y_pred))\n",
    "print('Métricas de Clasificación: ', classification_report(y_test,y_pred))"
   ]
  },
  {
   "cell_type": "markdown",
   "id": "c6908d7e",
   "metadata": {},
   "source": [
    "### Como las Métricas del Modelo LightGBM son mejores, podemos desplegarlo utilizando BYOM"
   ]
  },
  {
   "cell_type": "code",
   "execution_count": null,
   "id": "cd4ea281",
   "metadata": {},
   "outputs": [],
   "source": [
    "td_context.execute(\"CREATE SET TABLE pmml_models (model_id VARCHAR(40) CHARACTER SET LATIN NOT CASESPECIFIC, model BLOB(2097088000)) PRIMARY INDEX ( model_id );\")"
   ]
  },
  {
   "cell_type": "code",
   "execution_count": null,
   "id": "badb3415-e173-4dcd-b190-ad07a33a0e23",
   "metadata": {},
   "outputs": [],
   "source": [
    "model_bytes = open(\"TelcoChurnPy.pmml\", \"rb\").read()\n",
    "td_context.execute(\"insert into pmml_models  (model_id, model) values(?,?)\", 'churn_model', model_bytes)"
   ]
  },
  {
   "cell_type": "code",
   "execution_count": null,
   "id": "5726ba53-0495-48f0-8d8c-d73d4d116a46",
   "metadata": {},
   "outputs": [],
   "source": [
    "pd.read_sql(\"select * from pmml_models\", td_context)"
   ]
  },
  {
   "cell_type": "markdown",
   "id": "06791017-e124-43fb-802c-b1079aa49401",
   "metadata": {},
   "source": [
    "**Cargamos los datos nuevos para el Scoring**"
   ]
  },
  {
   "cell_type": "code",
   "execution_count": null,
   "id": "377afa80-d239-4618-85b7-c3b91ad99457",
   "metadata": {},
   "outputs": [],
   "source": [
    "churnew_df = pd.read_csv('../data/new_churn.csv')\n",
    "copy_to_sql(churnew_df,table_name='new_churn',schema_name= 'demo_user',if_exists='replace')"
   ]
  },
  {
   "cell_type": "code",
   "execution_count": null,
   "id": "73e776b7-8c43-4dbd-9627-d3edfe3886f3",
   "metadata": {},
   "outputs": [],
   "source": [
    "td_context.execute(\"CREATE TABLE ScoreResult AS ( \\\n",
    "SELECT * FROM mldb.PMMLPredict( \\\n",
    "    ON (SELECT * FROM new_churn) \\\n",
    "    ON (select * from pmml_models where model_id='churn_model') DIMENSION \\\n",
    "    USING \\\n",
    "        Accumulate('Phone') \\\n",
    ") AS dt \\\n",
    ") WITH DATA;\")"
   ]
  },
  {
   "cell_type": "code",
   "execution_count": null,
   "id": "7ce42db3-5c41-4fe0-8139-5e903f3acdc2",
   "metadata": {},
   "outputs": [],
   "source": [
    "td_context.execute('UPDATE ScoreResult SET prediction=1 WHERE \"probability(1)\" > 0.5;')"
   ]
  },
  {
   "cell_type": "code",
   "execution_count": null,
   "id": "f4f79e2d-b004-49f9-813d-cb93f6301bcf",
   "metadata": {},
   "outputs": [],
   "source": [
    "td_context.execute('UPDATE ScoreResult SET prediction=0 WHERE prediction IS NULL;')"
   ]
  },
  {
   "cell_type": "code",
   "execution_count": null,
   "id": "0991f95d-4cbc-49cd-aab4-30222935ffb2",
   "metadata": {},
   "outputs": [],
   "source": [
    "result_df = DataFrame.from_query(\"select top 10 * FROM ScoreResult;\")\n",
    "result_df.head()"
   ]
  },
  {
   "cell_type": "markdown",
   "id": "3a8dc28f-a625-465c-a1b6-99b5cc7b5d97",
   "metadata": {},
   "source": [
    "### Limpieza y Fin del Ejemplo"
   ]
  },
  {
   "cell_type": "code",
   "execution_count": null,
   "id": "2e212995-3505-40dd-8c65-8e0a1341881b",
   "metadata": {},
   "outputs": [],
   "source": [
    "td_context.execute(\"DROP TABLE pmml_models;\")"
   ]
  },
  {
   "cell_type": "code",
   "execution_count": null,
   "id": "747d9dc0-9a0c-4023-bb47-9a18ff5c6935",
   "metadata": {},
   "outputs": [],
   "source": [
    "td_context.execute(\"DROP TABLE ScoreResult;\")"
   ]
  },
  {
   "cell_type": "code",
   "execution_count": null,
   "id": "09b88161-48fa-4d28-8d24-383b4abfcdf7",
   "metadata": {},
   "outputs": [],
   "source": [
    "remove_context()"
   ]
  },
  {
   "cell_type": "markdown",
   "id": "c7083711",
   "metadata": {},
   "source": [
    "Copyright 2023 - Elaborado por Luis Cajachahua"
   ]
  }
 ],
 "metadata": {
  "kernelspec": {
   "display_name": "Python 3 (ipykernel)",
   "language": "python",
   "name": "python3"
  },
  "language_info": {
   "codemirror_mode": {
    "name": "ipython",
    "version": 3
   },
   "file_extension": ".py",
   "mimetype": "text/x-python",
   "name": "python",
   "nbconvert_exporter": "python",
   "pygments_lexer": "ipython3",
   "version": "3.9.10"
  }
 },
 "nbformat": 4,
 "nbformat_minor": 5
}
